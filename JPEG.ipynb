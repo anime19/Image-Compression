{
 "cells": [
  {
   "cell_type": "code",
   "execution_count": 1,
   "metadata": {
    "scrolled": true
   },
   "outputs": [
    {
     "name": "stderr",
     "output_type": "stream",
     "text": [
      "Using TensorFlow backend.\n",
      "C:\\Users\\Lenovo\\Anaconda3\\lib\\site-packages\\tensorflow\\python\\framework\\dtypes.py:516: FutureWarning: Passing (type, 1) or '1type' as a synonym of type is deprecated; in a future version of numpy, it will be understood as (type, (1,)) / '(1,)type'.\n",
      "  _np_qint8 = np.dtype([(\"qint8\", np.int8, 1)])\n",
      "C:\\Users\\Lenovo\\Anaconda3\\lib\\site-packages\\tensorflow\\python\\framework\\dtypes.py:517: FutureWarning: Passing (type, 1) or '1type' as a synonym of type is deprecated; in a future version of numpy, it will be understood as (type, (1,)) / '(1,)type'.\n",
      "  _np_quint8 = np.dtype([(\"quint8\", np.uint8, 1)])\n",
      "C:\\Users\\Lenovo\\Anaconda3\\lib\\site-packages\\tensorflow\\python\\framework\\dtypes.py:518: FutureWarning: Passing (type, 1) or '1type' as a synonym of type is deprecated; in a future version of numpy, it will be understood as (type, (1,)) / '(1,)type'.\n",
      "  _np_qint16 = np.dtype([(\"qint16\", np.int16, 1)])\n",
      "C:\\Users\\Lenovo\\Anaconda3\\lib\\site-packages\\tensorflow\\python\\framework\\dtypes.py:519: FutureWarning: Passing (type, 1) or '1type' as a synonym of type is deprecated; in a future version of numpy, it will be understood as (type, (1,)) / '(1,)type'.\n",
      "  _np_quint16 = np.dtype([(\"quint16\", np.uint16, 1)])\n",
      "C:\\Users\\Lenovo\\Anaconda3\\lib\\site-packages\\tensorflow\\python\\framework\\dtypes.py:520: FutureWarning: Passing (type, 1) or '1type' as a synonym of type is deprecated; in a future version of numpy, it will be understood as (type, (1,)) / '(1,)type'.\n",
      "  _np_qint32 = np.dtype([(\"qint32\", np.int32, 1)])\n",
      "C:\\Users\\Lenovo\\Anaconda3\\lib\\site-packages\\tensorflow\\python\\framework\\dtypes.py:525: FutureWarning: Passing (type, 1) or '1type' as a synonym of type is deprecated; in a future version of numpy, it will be understood as (type, (1,)) / '(1,)type'.\n",
      "  np_resource = np.dtype([(\"resource\", np.ubyte, 1)])\n",
      "C:\\Users\\Lenovo\\Anaconda3\\lib\\site-packages\\tensorboard\\compat\\tensorflow_stub\\dtypes.py:541: FutureWarning: Passing (type, 1) or '1type' as a synonym of type is deprecated; in a future version of numpy, it will be understood as (type, (1,)) / '(1,)type'.\n",
      "  _np_qint8 = np.dtype([(\"qint8\", np.int8, 1)])\n",
      "C:\\Users\\Lenovo\\Anaconda3\\lib\\site-packages\\tensorboard\\compat\\tensorflow_stub\\dtypes.py:542: FutureWarning: Passing (type, 1) or '1type' as a synonym of type is deprecated; in a future version of numpy, it will be understood as (type, (1,)) / '(1,)type'.\n",
      "  _np_quint8 = np.dtype([(\"quint8\", np.uint8, 1)])\n",
      "C:\\Users\\Lenovo\\Anaconda3\\lib\\site-packages\\tensorboard\\compat\\tensorflow_stub\\dtypes.py:543: FutureWarning: Passing (type, 1) or '1type' as a synonym of type is deprecated; in a future version of numpy, it will be understood as (type, (1,)) / '(1,)type'.\n",
      "  _np_qint16 = np.dtype([(\"qint16\", np.int16, 1)])\n",
      "C:\\Users\\Lenovo\\Anaconda3\\lib\\site-packages\\tensorboard\\compat\\tensorflow_stub\\dtypes.py:544: FutureWarning: Passing (type, 1) or '1type' as a synonym of type is deprecated; in a future version of numpy, it will be understood as (type, (1,)) / '(1,)type'.\n",
      "  _np_quint16 = np.dtype([(\"quint16\", np.uint16, 1)])\n",
      "C:\\Users\\Lenovo\\Anaconda3\\lib\\site-packages\\tensorboard\\compat\\tensorflow_stub\\dtypes.py:545: FutureWarning: Passing (type, 1) or '1type' as a synonym of type is deprecated; in a future version of numpy, it will be understood as (type, (1,)) / '(1,)type'.\n",
      "  _np_qint32 = np.dtype([(\"qint32\", np.int32, 1)])\n",
      "C:\\Users\\Lenovo\\Anaconda3\\lib\\site-packages\\tensorboard\\compat\\tensorflow_stub\\dtypes.py:550: FutureWarning: Passing (type, 1) or '1type' as a synonym of type is deprecated; in a future version of numpy, it will be understood as (type, (1,)) / '(1,)type'.\n",
      "  np_resource = np.dtype([(\"resource\", np.ubyte, 1)])\n"
     ]
    }
   ],
   "source": [
    "from keras.models import Model\n",
    "from keras.layers import Input, Conv2D, BatchNormalization, ZeroPadding2D, Activation\n",
    "import os\n",
    "from PIL import Image , ImageDraw, ImageFont\n",
    "from keras.preprocessing import image\n",
    "import numpy as np\n",
    "import sys\n",
    "from skimage import data\n",
    "from skimage import color\n",
    "from skimage.util.shape import view_as_blocks\n",
    "import glob\n",
    "import image_slicer\n",
    "import tensorflow as tf\n",
    "from scipy.misc import imsave, imread, imresize\n",
    "from sklearn.feature_extraction.image import reconstruct_from_patches_2d, extract_patches_2d\n",
    "from scipy.ndimage.filters import gaussian_filter\n",
    "from keras import backend as K\n",
    "import time\n",
    "from keras import optimizers\n",
    "from keras.preprocessing.image import load_img, img_to_array"
   ]
  },
  {
   "cell_type": "markdown",
   "metadata": {},
   "source": [
    "# JPEG "
   ]
  },
  {
   "cell_type": "code",
   "execution_count": null,
   "metadata": {},
   "outputs": [],
   "source": [
    "root_dir = r\"C:\\Users\\Lenovo\\Desktop\\classic rename\"\n",
    "c=0\n",
    "\n",
    "for filename in sorted(glob.iglob(root_dir + '**/*.bmp', recursive=True)):\n",
    "    print(filename)\n",
    "    im = Image.open(filename)\n",
    "    imResize = im.resize(im.size, Image.ANTIALIAS)\n",
    "    imResize.save(os.path.join(r\"C:\\Users\\Lenovo\\Desktop\\classicjpeg\\classic5_90\", str(c+10000) + '.jpg'), quality=90)\n",
    "    c+=1"
   ]
  },
  {
   "cell_type": "code",
   "execution_count": 8,
   "metadata": {},
   "outputs": [
    {
     "name": "stdout",
     "output_type": "stream",
     "text": [
      "WhatsApp Image 2019-08-11 at 12.09.27 AM.jpeg\n"
     ]
    }
   ],
   "source": [
    "root_dir = r\"C:\\Users\\Lenovo\\Desktop\\New folder (3)\"\n",
    "c=0\n",
    "for filename in os.listdir(filepath):\n",
    "    im = Image.open(os.path.join(filepath, filename))\n",
    "\n",
    "\n",
    "    print(filename)\n",
    "    #im = Image.open(filename)\n",
    "    imResize = im.resize(im.size, Image.ANTIALIAS)\n",
    "    imResize.save(os.path.join(r\"C:\\Users\\Lenovo\\Desktop\\New folder (3)\", str(c+10000) + '.jpg'), quality=100)\n",
    "    c+=1"
   ]
  },
  {
   "cell_type": "markdown",
   "metadata": {},
   "source": [
    "# IMAGE kb Size"
   ]
  },
  {
   "cell_type": "code",
   "execution_count": null,
   "metadata": {},
   "outputs": [],
   "source": [
    "input_img = Input(shape=(128,128,3))\n",
    "\n",
    "x = Conv2D(64, (3, 3), activation='relu', padding='same')(input_img)\n",
    "y = Conv2D(64, (3, 3), strides = (2, 2), activation='relu', padding='same')(x)\n",
    "# x = Conv2D(64, (3, 3), strides = (2, 2), activation='relu', padding='same')(x)\n",
    "encoded = Conv2D(3, (3,3), activation='sigmoid', padding='same')(y)\n",
    "model = Model(input_img, encoded)\n",
    "model.compile(optimizer= 'adam', loss='mean_absolute_error')\n",
    "\n",
    "import time\n",
    "start=time.time()\n",
    "mc = keras.callbacks.ModelCheckpoint('drive/My Drive/log_transform/16_1/weights/weights{epoch}.hdf5', save_best_only=False, period=1,verbose = 1)\n",
    "#tbc = TensorBoardColab()\n",
    "history=model.fit(x_train1, x_train1,validation_split=0.10,\n",
    "                epochs=400,\n",
    "                batch_size=8,\n",
    "                shuffle=True,\n",
    "                callbacks=[mc])\n",
    "end=time.time()\n",
    "total=end-start\n",
    "\n",
    "output = model.predict(color_me)\n",
    "\n",
    "output = output * 128\n",
    "# Output colorizations\n",
    "for i in range(len(output)):\n",
    "    cur = np.zeros((128, 128, 3))\n",
    "    cur[:,:,:] = output[i]\n",
    "    imsave(\"result/img_\"+str(i)+\".png\", cur)\n",
    "    #imsave(\"testrgb/img_\"+str(i)+\".png\", orgb[i])\n"
   ]
  },
  {
   "cell_type": "code",
   "execution_count": null,
   "metadata": {},
   "outputs": [],
   "source": [
    "root_dir = r\"C:\\Users\\Lenovo\\Desktop\\classic5\"\n",
    "c=0\n",
    "\n",
    "for filename in sorted(glob.iglob(root_dir + '**/*.png', recursive=True)):\n",
    "    #print(filename)\n",
    "    print((os.path.getsize(filename)/1024))\n",
    "    im = Image.open(filename)\n",
    "    imResize = im.resize(im.size, Image.ANTIALIAS)\n",
    "    imResize.save(os.path.join(r\"C:\\Users\\Lenovo\\Desktop\\classicjpeg\\classic5_90\", str(c+10000) + '.jpg'), quality=90)\n",
    "    c+=1"
   ]
  },
  {
   "cell_type": "markdown",
   "metadata": {},
   "source": [
    "# RENAME "
   ]
  },
  {
   "cell_type": "code",
   "execution_count": 9,
   "metadata": {},
   "outputs": [
    {
     "name": "stdout",
     "output_type": "stream",
     "text": [
      "10000.jpg\n"
     ]
    }
   ],
   "source": [
    "filepath = r\"C:\\Users\\Lenovo\\Desktop\\New folder (3)\"\n",
    "c=1\n",
    "\n",
    "for filename in os.listdir(filepath):\n",
    "    img = Image.open(os.path.join(filepath, filename))\n",
    "\n",
    "    print(filename)\n",
    "    \n",
    "    #mResize = im.resize(im.size, Image.ANTIALIAS)\n",
    "    img.save(os.path.join(r\"C:\\Users\\Lenovo\\Desktop\\New folder (3)\", str(c) +'.png'))\n",
    "    c+=1"
   ]
  },
  {
   "cell_type": "markdown",
   "metadata": {},
   "source": [
    "# RESIZE "
   ]
  },
  {
   "cell_type": "code",
   "execution_count": 2,
   "metadata": {},
   "outputs": [
    {
     "name": "stdout",
     "output_type": "stream",
     "text": [
      "baboon.bmp\n",
      "barbara.bmp\n",
      "boats.bmp\n",
      "lena.bmp\n",
      "peppers.bmp\n"
     ]
    }
   ],
   "source": [
    "filepath = r\"C:\\Users\\Lenovo\\Desktop\\classic5\"\n",
    "c=0\n",
    "\n",
    "for filename in os.listdir(filepath):\n",
    "    img = Image.open(os.path.join(filepath, filename))\n",
    "    print(filename)\n",
    "    \n",
    "    imResize = img.resize((256,256), Image.ANTIALIAS)\n",
    "    imResize.save(os.path.join(r\"C:\\Users\\Lenovo\\Desktop\\classic rename\", str(c+10000) +'.bmp'))\n",
    "    c+=1"
   ]
  },
  {
   "cell_type": "code",
   "execution_count": null,
   "metadata": {},
   "outputs": [],
   "source": []
  }
 ],
 "metadata": {
  "kernelspec": {
   "display_name": "Python 3",
   "language": "python",
   "name": "python3"
  },
  "language_info": {
   "codemirror_mode": {
    "name": "ipython",
    "version": 3
   },
   "file_extension": ".py",
   "mimetype": "text/x-python",
   "name": "python",
   "nbconvert_exporter": "python",
   "pygments_lexer": "ipython3",
   "version": "3.7.3"
  }
 },
 "nbformat": 4,
 "nbformat_minor": 2
}
